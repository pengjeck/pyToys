{
 "cells": [
  {
   "cell_type": "code",
   "execution_count": 11,
   "metadata": {
    "collapsed": false
   },
   "outputs": [],
   "source": [
    "import os\n",
    "\n",
    "root_path = '/home/pj/pro/android/inBack/src/res/metaMaterial'\n",
    "for root, dirs, files in os.walk(root_path):\n",
    "    for name in files:\n",
    "        abs_path = os.path.join(root, name)\n",
    "        if os.path.isdir(abs_path):\n",
    "            continue\n",
    "        # is file\n",
    "        if name[0] == '.':\n",
    "            # remove the hiden file\n",
    "            os.remove(abs_path)\n",
    "        # delete all file which suffix is rerc... \n",
    "        # of course, you can change it according to your need.\n",
    "        if name.split('.')[-1] == 'rsrc':\n",
    "            os.remove(abs_path)"
   ]
  },
  {
   "cell_type": "code",
   "execution_count": null,
   "metadata": {
    "collapsed": true
   },
   "outputs": [],
   "source": []
  }
 ],
 "metadata": {
  "anaconda-cloud": {},
  "kernelspec": {
   "display_name": "Python [conda root]",
   "language": "python",
   "name": "conda-root-py"
  },
  "language_info": {
   "codemirror_mode": {
    "name": "ipython",
    "version": 3
   },
   "file_extension": ".py",
   "mimetype": "text/x-python",
   "name": "python",
   "nbconvert_exporter": "python",
   "pygments_lexer": "ipython3",
   "version": "3.5.2"
  }
 },
 "nbformat": 4,
 "nbformat_minor": 1
}
